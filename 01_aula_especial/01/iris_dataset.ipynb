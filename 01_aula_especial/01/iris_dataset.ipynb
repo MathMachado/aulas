{
 "cells": [
  {
   "cell_type": "markdown",
   "metadata": {},
   "source": [
    "<img src = './soai_logo.png' width = 10% align = right>\n",
    "\n",
    "# Modelo usando `sklearn`\n",
    "Nesse script introdutório nós vamos:\n",
    "* Importar os dados\n",
    "* Motivação, visualização e motivação (simples)\n",
    "* Implementação de modelos usando `sklearn`\n",
    "* Comparação de performance dos modelos\n",
    "* Análise do melhor modelo"
   ]
  },
  {
   "cell_type": "markdown",
   "metadata": {},
   "source": [
    "<img src = './iris_with_labels.jpg' width = 40% align = right>\n",
    "\n",
    "## Dataset: Iris - 'Hello World'\n",
    "\n",
    "O dataset contém 3 espécies diferentes de íris:\n",
    "* Setosa\n",
    "* Versicolour\n",
    "* Virginica\n",
    "\n",
    "Para cada tipo flor examinada, foram medidas:\n",
    "* Sepal witdh (largura)\n",
    "* Sepal length (comprimento)\n",
    "* Petal witdh (largura)\n",
    "* Petal length (comprimento)\n",
    "\n",
    "[Mais informações.](https://en.wikipedia.org/wiki/Iris_flower_data_set)\n",
    "\n"
   ]
  },
  {
   "cell_type": "markdown",
   "metadata": {},
   "source": [
    "**Importando as bibliotecas e dados**"
   ]
  },
  {
   "cell_type": "code",
   "execution_count": null,
   "metadata": {},
   "outputs": [],
   "source": [
    "import pandas as pd\n",
    "import plotly.express as px\n",
    "import seaborn as sns\n",
    "import matplotlib.pyplot as plt\n",
    "from sklearn import datasets\n",
    "from sklearn.decomposition import PCA\n",
    "from sklearn.model_selection import cross_val_score, train_test_split\n",
    "from sklearn.preprocessing import MinMaxScaler\n",
    "\n",
    "import warnings\n",
    "warnings.filterwarnings(\"ignore\")\n",
    "%matplotlib inline"
   ]
  },
  {
   "cell_type": "code",
   "execution_count": null,
   "metadata": {
    "scrolled": false
   },
   "outputs": [],
   "source": [
    "iris = datasets.load_iris()\n",
    "iris_df = pd.DataFrame(data=iris.data, columns=iris.feature_names)\n",
    "iris_df['species'] = iris.target\n",
    "iris_df['species'] = iris_df['species'].apply(lambda x: iris.target_names[x])\n",
    "iris_df.head()"
   ]
  },
  {
   "cell_type": "markdown",
   "metadata": {},
   "source": [
    "**Análise exploratória de dados**"
   ]
  },
  {
   "cell_type": "code",
   "execution_count": null,
   "metadata": {},
   "outputs": [],
   "source": [
    "iris_df.describe(include='all')"
   ]
  },
  {
   "cell_type": "code",
   "execution_count": null,
   "metadata": {
    "scrolled": true
   },
   "outputs": [],
   "source": [
    "iris_df['species'].value_counts(normalize=False)"
   ]
  },
  {
   "cell_type": "markdown",
   "metadata": {},
   "source": [
    "**Visualização dos dados**"
   ]
  },
  {
   "cell_type": "code",
   "execution_count": null,
   "metadata": {},
   "outputs": [],
   "source": [
    "plt.figure(figsize=(8, 6), dpi=80)\n",
    "sns.scatterplot(x='sepal length (cm)', y='sepal width (cm)', hue='species', data=iris_df)\n",
    "plt.title('Sepal width vs. length')\n",
    "plt.grid()\n",
    "plt.show()"
   ]
  },
  {
   "cell_type": "markdown",
   "metadata": {},
   "source": [
    "Redução dimensional usando [PCA](https://pt.wikipedia.org/wiki/An%C3%A1lise_de_componentes_principais) para visualização em 3 dimensões."
   ]
  },
  {
   "cell_type": "code",
   "execution_count": null,
   "metadata": {
    "scrolled": false
   },
   "outputs": [],
   "source": [
    "iris_reduced = pd.DataFrame(data=PCA(n_components=3).fit_transform(iris.data),\n",
    "                            columns=['1st PC','2nd PC','3rd PC'])\n",
    "iris_reduced['species'] = iris_df['species']\n",
    "\n",
    "fig = px.scatter_3d(iris_reduced, x='1st PC',y='2nd PC',z='3rd PC', color='species')\n",
    "fig.show()"
   ]
  },
  {
   "cell_type": "markdown",
   "metadata": {},
   "source": [
    "**Preparando os dados para treinar os modelos**"
   ]
  },
  {
   "cell_type": "code",
   "execution_count": null,
   "metadata": {},
   "outputs": [],
   "source": [
    "seed = 10\n",
    "X_train, X_test, y_train, y_test = train_test_split(iris_df.iloc[:,:4],\n",
    "                                                    iris_df.iloc[:,4], test_size=0.2,\n",
    "                                                    random_state=seed)\n",
    "scaler = MinMaxScaler()\n",
    "X_train = scaler.fit_transform(X_train)\n",
    "X_test = scaler.transform(X_test)\n",
    "results = {}"
   ]
  },
  {
   "cell_type": "markdown",
   "metadata": {},
   "source": [
    "**Treinando os modelos**\n",
    "\n",
    "* Regressão Logística\n",
    "* Naive Bayes\n",
    "* Árvores de decisão\n",
    "* KNN\n",
    "* SVM (Linear, RBF)\n",
    "* Random Forest\n",
    "\n",
    "Também vamos implementar um k-Fold crossvalidation ([validação cruzada](https://pt.wikipedia.org/wiki/Valida%C3%A7%C3%A3o_cruzada)) para selecionar o modelo. Com `sklearn` o processo é muito similar quando se tem os dados preparados. Os resultados são registrados no dicionário `results`."
   ]
  },
  {
   "cell_type": "code",
   "execution_count": null,
   "metadata": {},
   "outputs": [],
   "source": [
    "from sklearn.linear_model import LogisticRegression\n",
    "model = LogisticRegression()\n",
    "CV_res = cross_val_score(model, X_train, y_train, cv=10, scoring='accuracy')\n",
    "results['LR'] = CV_res"
   ]
  },
  {
   "cell_type": "markdown",
   "metadata": {},
   "source": [
    "Para evitar o processo repetitivo do código acima, podemos usar um `for-loop` para os demais modelos."
   ]
  },
  {
   "cell_type": "code",
   "execution_count": null,
   "metadata": {},
   "outputs": [],
   "source": [
    "from sklearn.naive_bayes import GaussianNB\n",
    "from sklearn.tree import DecisionTreeClassifier\n",
    "from sklearn.neighbors import KNeighborsClassifier\n",
    "from sklearn.svm import LinearSVC, SVC\n",
    "from sklearn.ensemble import RandomForestClassifier\n",
    "models = [('NB', GaussianNB()),\n",
    "          ('DT', DecisionTreeClassifier()),\n",
    "          ('KNN', KNeighborsClassifier()),\n",
    "          ('linSVC', LinearSVC()),\n",
    "          ('rbfSVC', SVC()),\n",
    "          ('RF', RandomForestClassifier())]\n",
    "for name, model in models:\n",
    "    CV_res = cross_val_score(model, X_train, y_train, cv=10, scoring='accuracy')\n",
    "    results[name] = CV_res"
   ]
  },
  {
   "cell_type": "code",
   "execution_count": null,
   "metadata": {},
   "outputs": [],
   "source": [
    "print('Acurácia/exatidão dos modelos (desvio padrão):')\n",
    "for model in results.keys():\n",
    "    print('{}: {:.3} ({:.3})'.format(model, results[model].mean(), results[model].std()))"
   ]
  },
  {
   "cell_type": "markdown",
   "metadata": {},
   "source": [
    "**Vamos selecionar a `LogisticRegression` para avaliar a performance**\n",
    "Avaliação será feita em termos de [precisão](https://pt.wikipedia.org/wiki/Precis%C3%A3o_e_revoca%C3%A7%C3%A3o), [revocação](https://pt.wikipedia.org/wiki/Precis%C3%A3o_e_revoca%C3%A7%C3%A3o), [F1](https://pt.wikipedia.org/wiki/Precis%C3%A3o_e_revoca%C3%A7%C3%A3o) e [matriz de confusão](https://en.wikipedia.org/wiki/Confusion_matrix)."
   ]
  },
  {
   "cell_type": "code",
   "execution_count": null,
   "metadata": {
    "scrolled": false
   },
   "outputs": [],
   "source": [
    "from sklearn.metrics import confusion_matrix, classification_report\n",
    "\n",
    "clf = LogisticRegression()\n",
    "clf.fit(X_train, y_train)\n",
    "predictions = clf.predict(X_test)\n",
    "report = classification_report(y_test, predictions, output_dict=True)\n",
    "sns.heatmap(confusion_matrix(y_test, predictions), annot=True,annot_kws={\"size\": 16})\n",
    "plt.title('Confusion Matrix')\n",
    "plt.ylabel('Actual')\n",
    "plt.xlabel('Predicted')\n",
    "plt.show()\n",
    "pd.DataFrame(data=report).T"
   ]
  },
  {
   "cell_type": "markdown",
   "metadata": {},
   "source": [
    "## Mais informações:\n",
    "* [Principal Component Analysis - Explained Visually](http://setosa.io/ev/principal-component-analysis/)\n",
    "* [Entendendo o que é Matriz de Confusão com Python](https://medium.com/data-hackers/entendendo-o-que-%C3%A9-matriz-de-confus%C3%A3o-com-python-114e683ec509)"
   ]
  }
 ],
 "metadata": {
  "kernelspec": {
   "display_name": "Python 3",
   "language": "python",
   "name": "python3"
  },
  "language_info": {
   "codemirror_mode": {
    "name": "ipython",
    "version": 3
   },
   "file_extension": ".py",
   "mimetype": "text/x-python",
   "name": "python",
   "nbconvert_exporter": "python",
   "pygments_lexer": "ipython3",
   "version": "3.7.3"
  }
 },
 "nbformat": 4,
 "nbformat_minor": 1
}
