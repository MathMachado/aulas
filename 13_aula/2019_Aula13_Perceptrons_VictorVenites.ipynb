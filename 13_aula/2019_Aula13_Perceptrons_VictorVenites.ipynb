{
 "cells": [
  {
   "cell_type": "markdown",
   "metadata": {
    "colab_type": "text",
    "id": "EbRE1-U7OlXl"
   },
   "source": [
    "# School of AI - São Paulo\n",
    "## Professor:   Victor Venites\n",
    "## Data: 18/06/2019\n",
    "- \n",
    "# ***Perceptron***"
   ]
  },
  {
   "cell_type": "code",
   "execution_count": 1,
   "metadata": {
    "colab": {
     "base_uri": "https://localhost:8080/",
     "height": 79
    },
    "colab_type": "code",
    "executionInfo": {
     "elapsed": 1087,
     "status": "ok",
     "timestamp": 1542930086351,
     "user": {
      "displayName": "Victor Palmito",
      "photoUrl": "",
      "userId": "09105542882832001959"
     },
     "user_tz": 120
    },
    "id": "oUtt0t5G-4Me",
    "outputId": "7f2bac3e-a8ef-4abd-8e28-a7d2c104f0f5"
   },
   "outputs": [
    {
     "data": {
      "text/html": [
       "<marquee style='width: 100%; color: blue;'><h1><b>BASE!</b></h1></marquee>\n"
      ],
      "text/plain": [
       "<IPython.core.display.HTML object>"
      ]
     },
     "metadata": {},
     "output_type": "display_data"
    }
   ],
   "source": [
    "%%html\n",
    "<marquee style='width: 100%; color: blue;'><h1><b>BASE!</b></h1></marquee>"
   ]
  },
  {
   "cell_type": "markdown",
   "metadata": {
    "colab_type": "text",
    "id": "zrikDnAN2sk3"
   },
   "source": [
    "# Base de Conhecimento\n",
    "## Método Científico\n",
    "\n",
    "\n",
    "*   Método de atuação das ciências exatas\n",
    "*   Reprodutibilidade\n",
    "*   Princípio da Falseabilidade (pressionar os dados)\n",
    "*   Entenda o Método Científico e você entederá qualquer modelo a partir da base\n",
    "*   Para quantas bases de dados seu modelo funciona?\n",
    "*   Quais tipos de dados seu modelo atende?"
   ]
  },
  {
   "cell_type": "markdown",
   "metadata": {
    "colab_type": "text",
    "id": "uUaHgAeDlFDO"
   },
   "source": [
    "## Otimização Matemática<br/>\n",
    ">Aplicações: Manufatura; Transporte, Logística, Economia, etc ...<br/>\n",
    "> Maximizar ou Minimizar possibílidades<br/>\n",
    "> **Problema Básico:** <br/>\n",
    ">  1.   Função Objetivo , * f(x)* , ou Hipótese <br/>\n",
    ">  2.   Variáveis: x1, x2, x3, ... , x4, ou, \"Altura\", \"Peso\", \"Idade\"... <br/>\n",
    ">  3.  Restrições: \"Se X for menor que 2\"; Regras de Negócio  <br/>\n",
    "> **Pesquisa Operacional**\n",
    "## Meta-Heuristicas\n",
    "> N, NP, NP-Hard <br/>\n",
    "> NonPlonimial\n",
    "---\n",
    "## Casos Pertinentes\n",
    ">  - **Restrições (Constraints em Inglês):** Limitados, ou Não Limitados<br/>\n",
    ">  - Variáveis Discretas ou Continuas\n",
    ">  - Deterministicas, Stocasticas, ou Ruido<br/>\n",
    "> <img height=\"200px\" src=\"http://victorvenites.com/recursos_diversos/Deterministico_Stocastico_Noise.png\" align=\"center\" hspace=\"20px\" vspace=\"5px\"><br/>\n",
    "---"
   ]
  },
  {
   "cell_type": "markdown",
   "metadata": {
    "colab_type": "text",
    "id": "T3gS63nl3CQP"
   },
   "source": [
    "# Rede Simples / Perceptron\n",
    "> Rede Neural de 1 Camadas"
   ]
  },
  {
   "cell_type": "code",
   "execution_count": 3,
   "metadata": {
    "colab": {},
    "colab_type": "code",
    "id": "qyoiIX-w3B5H"
   },
   "outputs": [],
   "source": [
    "# Dependencias\n",
    "import numpy as np\n",
    "# Para matemática, pois Python não foi criado para calculadora, multiplicação de matriz\n",
    "import time # Para registrar o tempo de uma execução"
   ]
  },
  {
   "cell_type": "code",
   "execution_count": 4,
   "metadata": {
    "colab": {},
    "colab_type": "code",
    "id": "JhLYavUR3BHa"
   },
   "outputs": [],
   "source": [
    "# Variáveis\n",
    "n_hidden = 10 # 10 neurônios por camada interna\n",
    "n_in = 10 # Dados/Neurônios de Entrada\n",
    "\n",
    "# Saidas\n",
    "n_out = 10 # Neuronios de Saída\n",
    "n_sample = 300 # Dados\n",
    "\n",
    "# HyperParametro - Graus de Entropía?\n",
    "learning_rate = 0.10 # Qual a velocidade\n",
    "momentum = 0.9 # \n",
    "\n",
    "# Semente Aleatória - Não Deterministica\n",
    "np.random.seed(0)"
   ]
  },
  {
   "cell_type": "code",
   "execution_count": 5,
   "metadata": {},
   "outputs": [],
   "source": [
    "# Trecho para normalização dos resultados de cada treino\n",
    "\n",
    "# Para Camada Única\n",
    "def sigmoid(x): #Popularmente usada por ter curvas abrangentes\n",
    "  return 1.0/(1.0 + np.exp(-x)) # Torna os número em probabílidades"
   ]
  },
  {
   "cell_type": "markdown",
   "metadata": {
    "colab_type": "text",
    "id": "OAPh_cTqX39E"
   },
   "source": [
    "## Diagrama de Camadas\n",
    "> <img height=\"500px\" src=\"http://victorvenites.com/recursos_diversos/Diagrama_Camadas.png\" align=\"center\" hspace=\"20px\" vspace=\"5px\"><br/>"
   ]
  },
  {
   "cell_type": "code",
   "execution_count": 12,
   "metadata": {
    "colab": {},
    "colab_type": "code",
    "id": "HoUTcyMe4afp"
   },
   "outputs": [],
   "source": [
    "# Entrada de Dados, Transpose, Camada 1, Biases\n",
    "def train(x, t, W, bw): #x = input; t = Transposta; W = Camadas; bw = Viés\n",
    "    #forward -- matrix multiply + Biases\n",
    "    # Primeira Camada\n",
    "    A = np.dot(x, W) + bw # Multiplica os dados de entrada pela primeira camada\n",
    "    Y = sigmoid(A) # Função de ativação\n",
    "\n",
    "    #backward - Para minimizar a perda\n",
    "    Ew = Y - t\n",
    "    \n",
    "\n",
    "    #predizer a perda\n",
    "    dW = np.outer(x, Ew) # Delta camada\n",
    "\n",
    "    # Mutilplicação da Transposta Inversa\n",
    "    loss = -np.mean(t * np.log(Y) + (1 - t) * np.log(1 - Y))\n",
    "    # Signal --> Sinal do Neuronio segundo autor\n",
    "\n",
    "    return loss, (dW, Ew)"
   ]
  },
  {
   "cell_type": "code",
   "execution_count": 6,
   "metadata": {
    "colab": {},
    "colab_type": "code",
    "id": "R4knnkY26Pkt"
   },
   "outputs": [],
   "source": [
    "def predict(x, W,  bw):\n",
    "    A = np.dot(x, W) + bw # Valores finais da predição\n",
    "\n",
    "    return (sigmoid(A) > 0.5).astype(int) # se maior que 0.5, vira 1/ Se menor vira zero"
   ]
  },
  {
   "cell_type": "code",
   "execution_count": 7,
   "metadata": {
    "colab": {
     "base_uri": "https://localhost:8080/",
     "height": 745
    },
    "colab_type": "code",
    "executionInfo": {
     "elapsed": 1317,
     "status": "ok",
     "timestamp": 1542930086670,
     "user": {
      "displayName": "Victor Palmito",
      "photoUrl": "",
      "userId": "09105542882832001959"
     },
     "user_tz": 120
    },
    "id": "mApn4oU_69T9",
    "outputId": "40b2c4de-0105-4c34-8773-5ee2fd0efc1f"
   },
   "outputs": [
    {
     "data": {
      "text/plain": [
       "[array([[ 0.17640523,  0.04001572,  0.0978738 ,  0.22408932,  0.1867558 ,\n",
       "         -0.09772779,  0.09500884, -0.01513572, -0.01032189,  0.04105985],\n",
       "        [ 0.01440436,  0.14542735,  0.07610377,  0.0121675 ,  0.04438632,\n",
       "          0.03336743,  0.14940791, -0.02051583,  0.03130677, -0.08540957],\n",
       "        [-0.25529898,  0.06536186,  0.08644362, -0.0742165 ,  0.22697546,\n",
       "         -0.14543657,  0.00457585, -0.01871839,  0.15327792,  0.14693588],\n",
       "        [ 0.01549474,  0.03781625, -0.08877857, -0.19807965, -0.03479121,\n",
       "          0.0156349 ,  0.12302907,  0.12023798, -0.03873268, -0.03023028],\n",
       "        [-0.1048553 , -0.14200179, -0.17062702,  0.19507754, -0.05096522,\n",
       "         -0.04380743, -0.12527954,  0.07774904, -0.16138978, -0.02127403],\n",
       "        [-0.08954666,  0.03869025, -0.05108051, -0.11806322, -0.00281822,\n",
       "          0.04283319,  0.00665172,  0.03024719, -0.06343221, -0.03627412],\n",
       "        [-0.06724604, -0.03595532, -0.08131463, -0.17262826,  0.01774261,\n",
       "         -0.04017809, -0.16301983,  0.04627823, -0.09072984,  0.00519454],\n",
       "        [ 0.07290906,  0.01289829,  0.11394007, -0.12348258,  0.04023416,\n",
       "         -0.06848101, -0.08707971, -0.05788497, -0.03115525,  0.00561653],\n",
       "        [-0.11651498,  0.09008265,  0.04656624, -0.15362437,  0.14882522,\n",
       "          0.18958892,  0.11787796, -0.01799248, -0.10707526,  0.10544517],\n",
       "        [-0.04031769,  0.12224451,  0.0208275 ,  0.0976639 ,  0.03563664,\n",
       "          0.07065732,  0.00105   ,  0.17858705,  0.01269121,  0.04019894]]),\n",
       " array([0., 0., 0., 0., 0., 0., 0., 0., 0., 0.])]"
      ]
     },
     "execution_count": 7,
     "metadata": {},
     "output_type": "execute_result"
    }
   ],
   "source": [
    "# Criação das Camadas\n",
    "W = np.random.normal(scale=0.1, size=(n_in, n_hidden)) # Primeira camada, Matriz de zeros\n",
    "# W = np.random.normal(scale=0.1, size=(n_hidden, n_out)) # Segunda camada, Matriz de zeros\n",
    "# 10 entram, 10 saem\n",
    "\n",
    "bw = np.zeros(n_hidden) # \n",
    "# bw = np.zeros(n_out)\n",
    "\n",
    "params = [W, bw]\n",
    "params"
   ]
  },
  {
   "cell_type": "code",
   "execution_count": 10,
   "metadata": {
    "colab": {
     "base_uri": "https://localhost:8080/",
     "height": 243
    },
    "colab_type": "code",
    "executionInfo": {
     "elapsed": 1306,
     "status": "ok",
     "timestamp": 1542930086676,
     "user": {
      "displayName": "Victor Palmito",
      "photoUrl": "",
      "userId": "09105542882832001959"
     },
     "user_tz": 120
    },
    "id": "K4bdHg8X7iLl",
    "outputId": "775fa7c1-5380-43d5-92f6-e45f58674d67"
   },
   "outputs": [
    {
     "data": {
      "text/plain": [
       "(array([[1, 1, 0, ..., 0, 0, 0],\n",
       "        [1, 1, 1, ..., 0, 1, 0],\n",
       "        [0, 1, 1, ..., 0, 0, 1],\n",
       "        ...,\n",
       "        [0, 1, 0, ..., 0, 0, 1],\n",
       "        [1, 1, 0, ..., 0, 1, 0],\n",
       "        [0, 0, 1, ..., 0, 0, 1]]), array([[0, 0, 1, ..., 1, 1, 1],\n",
       "        [0, 0, 0, ..., 1, 0, 1],\n",
       "        [1, 0, 0, ..., 1, 1, 0],\n",
       "        ...,\n",
       "        [1, 0, 1, ..., 1, 1, 0],\n",
       "        [0, 0, 1, ..., 1, 0, 1],\n",
       "        [1, 1, 0, ..., 1, 1, 0]], dtype=int32))"
      ]
     },
     "execution_count": 10,
     "metadata": {},
     "output_type": "execute_result"
    }
   ],
   "source": [
    "#Gerar os Dados - Teste com portas lógicas\n",
    "X = np.random.binomial(1, 0.5, (n_sample, n_in))\n",
    "T  = X ^ 1 # XOR, OU Exclusivo\n",
    "# O síbomlo '^' é um comando lógico do python entre 'a' e 'b'\n",
    "# Ex: 0 ^ 1 -> 1; 1 ^ 1 -> 0 ; \n",
    "X, T"
   ]
  },
  {
   "cell_type": "code",
   "execution_count": 13,
   "metadata": {
    "colab": {
     "base_uri": "https://localhost:8080/",
     "height": 1751
    },
    "colab_type": "code",
    "executionInfo": {
     "elapsed": 3044,
     "status": "ok",
     "timestamp": 1542930088446,
     "user": {
      "displayName": "Victor Palmito",
      "photoUrl": "",
      "userId": "09105542882832001959"
     },
     "user_tz": 120
    },
    "id": "iavGkWPK7y4n",
    "outputId": "25f7e91e-44fd-4b3f-8ae4-b4ba134c45c0"
   },
   "outputs": [
    {
     "name": "stderr",
     "output_type": "stream",
     "text": [
      "E:\\Users\\Palmito\\Anaconda3\\lib\\site-packages\\ipykernel_launcher.py:6: DeprecationWarning: time.clock has been deprecated in Python 3.3 and will be removed from Python 3.8: use time.perf_counter or time.process_time instead\n",
      "  \n",
      "E:\\Users\\Palmito\\Anaconda3\\lib\\site-packages\\ipykernel_launcher.py:21: DeprecationWarning: time.clock has been deprecated in Python 3.3 and will be removed from Python 3.8: use time.perf_counter or time.process_time instead\n"
     ]
    },
    {
     "name": "stdout",
     "output_type": "stream",
     "text": [
      "Epoch: 0, Loos: 0.11496093, Time: 0.015671s\n",
      "Epoch: 1, Loos: 0.00838854, Time: 0.011688s\n",
      "Epoch: 2, Loos: 0.00544919, Time: 0.014808s\n",
      "Epoch: 3, Loos: 0.00408101, Time: 0.014017s\n",
      "Epoch: 4, Loos: 0.00327394, Time: 0.016711s\n",
      "Epoch: 5, Loos: 0.00273796, Time: 0.026012s\n",
      "Epoch: 6, Loos: 0.00235493, Time: 0.013668s\n",
      "Epoch: 7, Loos: 0.00206707, Time: 0.011261s\n",
      "Epoch: 8, Loos: 0.00184259, Time: 0.012582s\n",
      "Epoch: 9, Loos: 0.00166251, Time: 0.011580s\n",
      "Epoch: 10, Loos: 0.00151477, Time: 0.011299s\n",
      "Epoch: 11, Loos: 0.00139133, Time: 0.011203s\n",
      "Epoch: 12, Loos: 0.00128663, Time: 0.015063s\n",
      "Epoch: 13, Loos: 0.00119669, Time: 0.016670s\n",
      "Epoch: 14, Loos: 0.00111857, Time: 0.019437s\n",
      "Epoch: 15, Loos: 0.00105007, Time: 0.030849s\n",
      "Epoch: 16, Loos: 0.00098953, Time: 0.016791s\n",
      "Epoch: 17, Loos: 0.00093562, Time: 0.023765s\n",
      "Epoch: 18, Loos: 0.00088731, Time: 0.011399s\n",
      "Epoch: 19, Loos: 0.00084376, Time: 0.018659s\n",
      "Epoch: 20, Loos: 0.00080431, Time: 0.012049s\n",
      "Epoch: 21, Loos: 0.00076839, Time: 0.011534s\n",
      "Epoch: 22, Loos: 0.00073556, Time: 0.011291s\n",
      "Epoch: 23, Loos: 0.00070543, Time: 0.011686s\n",
      "Epoch: 24, Loos: 0.00067768, Time: 0.011989s\n",
      "Epoch: 25, Loos: 0.00065204, Time: 0.010528s\n",
      "Epoch: 26, Loos: 0.00062827, Time: 0.013181s\n",
      "Epoch: 27, Loos: 0.00060618, Time: 0.014563s\n",
      "Epoch: 28, Loos: 0.00058560, Time: 0.014319s\n",
      "Epoch: 29, Loos: 0.00056637, Time: 0.014948s\n",
      "Epoch: 30, Loos: 0.00054837, Time: 0.011408s\n",
      "Epoch: 31, Loos: 0.00053148, Time: 0.013099s\n",
      "Epoch: 32, Loos: 0.00051560, Time: 0.011757s\n",
      "Epoch: 33, Loos: 0.00050064, Time: 0.017565s\n",
      "Epoch: 34, Loos: 0.00048654, Time: 0.020255s\n",
      "Epoch: 35, Loos: 0.00047320, Time: 0.012044s\n",
      "Epoch: 36, Loos: 0.00046058, Time: 0.013884s\n",
      "Epoch: 37, Loos: 0.00044862, Time: 0.010984s\n",
      "Epoch: 38, Loos: 0.00043726, Time: 0.012646s\n",
      "Epoch: 39, Loos: 0.00042647, Time: 0.011065s\n",
      "Epoch: 40, Loos: 0.00041620, Time: 0.010346s\n",
      "Epoch: 41, Loos: 0.00040641, Time: 0.012329s\n",
      "Epoch: 42, Loos: 0.00039707, Time: 0.010372s\n",
      "Epoch: 43, Loos: 0.00038815, Time: 0.012317s\n",
      "Epoch: 44, Loos: 0.00037963, Time: 0.013702s\n",
      "Epoch: 45, Loos: 0.00037147, Time: 0.012172s\n",
      "Epoch: 46, Loos: 0.00036366, Time: 0.017285s\n",
      "Epoch: 47, Loos: 0.00035617, Time: 0.026766s\n",
      "Epoch: 48, Loos: 0.00034898, Time: 0.024298s\n",
      "Epoch: 49, Loos: 0.00034207, Time: 0.012497s\n",
      "Epoch: 50, Loos: 0.00033544, Time: 0.011092s\n",
      "Epoch: 51, Loos: 0.00032906, Time: 0.011623s\n",
      "Epoch: 52, Loos: 0.00032291, Time: 0.010628s\n",
      "Epoch: 53, Loos: 0.00031700, Time: 0.011173s\n",
      "Epoch: 54, Loos: 0.00031129, Time: 0.013058s\n",
      "Epoch: 55, Loos: 0.00030579, Time: 0.011122s\n",
      "Epoch: 56, Loos: 0.00030048, Time: 0.012933s\n",
      "Epoch: 57, Loos: 0.00029535, Time: 0.011598s\n",
      "Epoch: 58, Loos: 0.00029039, Time: 0.017976s\n",
      "Epoch: 59, Loos: 0.00028560, Time: 0.013710s\n",
      "Epoch: 60, Loos: 0.00028096, Time: 0.016266s\n",
      "Epoch: 61, Loos: 0.00027647, Time: 0.019697s\n",
      "Epoch: 62, Loos: 0.00027213, Time: 0.013056s\n",
      "Epoch: 63, Loos: 0.00026791, Time: 0.012816s\n",
      "Epoch: 64, Loos: 0.00026383, Time: 0.012416s\n",
      "Epoch: 65, Loos: 0.00025987, Time: 0.019284s\n",
      "Epoch: 66, Loos: 0.00025603, Time: 0.011432s\n",
      "Epoch: 67, Loos: 0.00025229, Time: 0.014688s\n",
      "Epoch: 68, Loos: 0.00024867, Time: 0.011623s\n",
      "Epoch: 69, Loos: 0.00024515, Time: 0.011714s\n",
      "Epoch: 70, Loos: 0.00024173, Time: 0.012743s\n",
      "Epoch: 71, Loos: 0.00023840, Time: 0.014339s\n",
      "Epoch: 72, Loos: 0.00023516, Time: 0.016846s\n",
      "Epoch: 73, Loos: 0.00023201, Time: 0.021192s\n",
      "Epoch: 74, Loos: 0.00022894, Time: 0.012322s\n",
      "Epoch: 75, Loos: 0.00022595, Time: 0.014634s\n",
      "Epoch: 76, Loos: 0.00022304, Time: 0.011506s\n",
      "Epoch: 77, Loos: 0.00022021, Time: 0.013832s\n",
      "Epoch: 78, Loos: 0.00021744, Time: 0.013878s\n",
      "Epoch: 79, Loos: 0.00021474, Time: 0.012164s\n",
      "Epoch: 80, Loos: 0.00021211, Time: 0.014421s\n",
      "Epoch: 81, Loos: 0.00020955, Time: 0.012072s\n",
      "Epoch: 82, Loos: 0.00020704, Time: 0.012849s\n",
      "Epoch: 83, Loos: 0.00020460, Time: 0.012387s\n",
      "Epoch: 84, Loos: 0.00020221, Time: 0.024386s\n",
      "Epoch: 85, Loos: 0.00019988, Time: 0.013322s\n",
      "Epoch: 86, Loos: 0.00019759, Time: 0.023579s\n",
      "Epoch: 87, Loos: 0.00019537, Time: 0.012890s\n",
      "Epoch: 88, Loos: 0.00019319, Time: 0.013319s\n",
      "Epoch: 89, Loos: 0.00019106, Time: 0.015173s\n",
      "Epoch: 90, Loos: 0.00018897, Time: 0.011521s\n",
      "Epoch: 91, Loos: 0.00018693, Time: 0.012010s\n",
      "Epoch: 92, Loos: 0.00018494, Time: 0.012030s\n",
      "Epoch: 93, Loos: 0.00018298, Time: 0.011111s\n",
      "Epoch: 94, Loos: 0.00018107, Time: 0.010660s\n",
      "Epoch: 95, Loos: 0.00017920, Time: 0.011745s\n",
      "Epoch: 96, Loos: 0.00017736, Time: 0.010485s\n",
      "Epoch: 97, Loos: 0.00017557, Time: 0.010793s\n",
      "Epoch: 98, Loos: 0.00017381, Time: 0.011737s\n",
      "Epoch: 99, Loos: 0.00017208, Time: 0.014945s\n"
     ]
    }
   ],
   "source": [
    "# Hora do modelo\n",
    "for epoch in range(100): # Época do treinamento\n",
    "  err = []\n",
    "  upd = [0]*len(params) # Update\n",
    "  \n",
    "  t0 = time.clock()\n",
    "  # para cada ponto do dado, atualize nossos pesos\n",
    "  for i in range(X.shape[0]):\n",
    "    loss, grad = train(X[i], T[i], *params)\n",
    "    # Como posso garantir que esta certo?\n",
    "    #Atualizar a perda\n",
    "    for j in range(len(params)):\n",
    "      params[j] -= upd[j]\n",
    "    \n",
    "    for k in range(len(params)):\n",
    "        upd[k] = learning_rate * grad[k] + momentum * upd[k]\n",
    "        # DataFitting\n",
    "      \n",
    "    err.append(loss)\n",
    "  \n",
    "  print('Epoch: %d, Loos: %.8f, Time: %fs' %(epoch, np.mean(err), time.clock()-t0))"
   ]
  },
  {
   "cell_type": "markdown",
   "metadata": {
    "colab_type": "text",
    "id": "EWW5PSiJ2NCs"
   },
   "source": [
    "# Vamos tentar predizer algo"
   ]
  },
  {
   "cell_type": "code",
   "execution_count": 14,
   "metadata": {
    "colab": {
     "base_uri": "https://localhost:8080/",
     "height": 69
    },
    "colab_type": "code",
    "executionInfo": {
     "elapsed": 3019,
     "status": "ok",
     "timestamp": 1542930088446,
     "user": {
      "displayName": "Victor Palmito",
      "photoUrl": "",
      "userId": "09105542882832001959"
     },
     "user_tz": 120
    },
    "id": "CnHZcopF9u4M",
    "outputId": "13077bc3-881f-4f4f-e307-bce5800b219c"
   },
   "outputs": [
    {
     "name": "stdout",
     "output_type": "stream",
     "text": [
      "Predição XOR\n",
      "[0 1 1 1 0 0 1 0 0 0]\n",
      "[1 0 0 0 1 1 0 1 1 1]\n"
     ]
    }
   ],
   "source": [
    "#Vamos tentar predizer algo\n",
    "x = np.random.binomial(1, 0.5, n_in)\n",
    "print('Predição XOR')\n",
    "print(x)\n",
    "print(predict(x, *params))"
   ]
  },
  {
   "cell_type": "code",
   "execution_count": 16,
   "metadata": {},
   "outputs": [
    {
     "data": {
      "text/plain": [
       "0"
      ]
     },
     "execution_count": 16,
     "metadata": {},
     "output_type": "execute_result"
    }
   ],
   "source": [
    "1 ^ 1"
   ]
  },
  {
   "cell_type": "code",
   "execution_count": null,
   "metadata": {},
   "outputs": [],
   "source": []
  }
 ],
 "metadata": {
  "colab": {
   "collapsed_sections": [],
   "name": "Redes_Neurais_Artificiais_Aula1.ipynb",
   "provenance": [],
   "version": "0.3.2"
  },
  "kernelspec": {
   "display_name": "Python 3",
   "language": "python",
   "name": "python3"
  },
  "language_info": {
   "codemirror_mode": {
    "name": "ipython",
    "version": 3
   },
   "file_extension": ".py",
   "mimetype": "text/x-python",
   "name": "python",
   "nbconvert_exporter": "python",
   "pygments_lexer": "ipython3",
   "version": "3.7.3"
  }
 },
 "nbformat": 4,
 "nbformat_minor": 1
}
